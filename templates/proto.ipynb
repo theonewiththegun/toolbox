{
 "cells": [
  {
   "cell_type": "code",
   "execution_count": 1,
   "outputs": [
    {
     "name": "stdout",
     "output_type": "stream",
     "text": [
      "Collecting git+https://github.com/theonewiththegun/toolbox\r\n",
      "  Cloning https://github.com/theonewiththegun/toolbox to /private/var/folders/74/rh0vf18941q8kd84_8wy2yl80000gn/T/pip-req-build-hysnx4od\r\n",
      "  Running command git clone -q https://github.com/theonewiththegun/toolbox /private/var/folders/74/rh0vf18941q8kd84_8wy2yl80000gn/T/pip-req-build-hysnx4od\r\n",
      "  Resolved https://github.com/theonewiththegun/toolbox to commit 7e52b94a3addf25af5094f501a1ff0a477dc7679\r\n",
      "Building wheels for collected packages: toolbox\r\n",
      "  Building wheel for toolbox (setup.py) ... \u001B[?25ldone\r\n",
      "\u001B[?25h  Created wheel for toolbox: filename=toolbox-0.0.1-py3-none-any.whl size=5016 sha256=2275340675bbbbe0b0871b5bec8262e70f647e17e5769146270bcad8c283e0e5\r\n",
      "  Stored in directory: /private/var/folders/74/rh0vf18941q8kd84_8wy2yl80000gn/T/pip-ephem-wheel-cache-vaku7g20/wheels/aa/6c/de/aeb8885593d1c85ee18afe777650511239c3b33c23d0acc930\r\n",
      "Successfully built toolbox\r\n",
      "Installing collected packages: toolbox\r\n",
      "Successfully installed toolbox-0.0.1\r\n"
     ]
    }
   ],
   "source": [
    "# getting convenience functions from github\n",
    "!pip install git+https://github.com/theonewiththegun/toolbox"
   ],
   "metadata": {
    "collapsed": false,
    "pycharm": {
     "name": "#%%\n"
    }
   }
  },
  {
   "cell_type": "code",
   "execution_count": null,
   "metadata": {
    "collapsed": true
   },
   "outputs": [],
   "source": [
    "import pandas as pd\n",
    "import numpy as np\n",
    "\n",
    "from toolbox import utils\n",
    "from toolbox import settings"
   ]
  },
  {
   "cell_type": "code",
   "execution_count": null,
   "outputs": [],
   "source": [
    "data_dir = utils.Folder('data')"
   ],
   "metadata": {
    "collapsed": false,
    "pycharm": {
     "name": "#%%\n"
    }
   }
  }
 ],
 "metadata": {
  "kernelspec": {
   "display_name": "Python 3",
   "language": "python",
   "name": "python3"
  },
  "language_info": {
   "codemirror_mode": {
    "name": "ipython",
    "version": 2
   },
   "file_extension": ".py",
   "mimetype": "text/x-python",
   "name": "python",
   "nbconvert_exporter": "python",
   "pygments_lexer": "ipython2",
   "version": "2.7.6"
  }
 },
 "nbformat": 4,
 "nbformat_minor": 0
}